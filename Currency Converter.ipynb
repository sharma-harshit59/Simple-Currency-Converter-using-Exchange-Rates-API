{
 "cells": [
  {
   "cell_type": "code",
   "execution_count": 1,
   "id": "3a159aa2",
   "metadata": {},
   "outputs": [],
   "source": [
    "import requests as rq\n",
    "import json"
   ]
  },
  {
   "cell_type": "code",
   "execution_count": 2,
   "id": "077f668c",
   "metadata": {},
   "outputs": [
    {
     "name": "stdout",
     "output_type": "stream",
     "text": [
      "Enter Date of Exchange (Format: 'YYYY-MM-DD' or 'latest'): 2022-05-09\n",
      "Base Currency (Currency from): USD\n",
      "Target Currency (Currency to): INR\n",
      "How much USD you want to convert?10000\n"
     ]
    }
   ],
   "source": [
    "date = input(\"Enter Date of Exchange (Format: 'YYYY-MM-DD' or 'latest'): \")\n",
    "base = input(\"Base Currency (Currency from): \")\n",
    "trgt = input(\"Target Currency (Currency to): \")\n",
    "qnty = float(input(\"How much {} you want to convert?\".format(base)))\n",
    "base_url = \"https://api.exchangerate.host/\""
   ]
  },
  {
   "cell_type": "code",
   "execution_count": 3,
   "id": "13f09a7e",
   "metadata": {},
   "outputs": [
    {
     "data": {
      "text/plain": [
       "'https://api.exchangerate.host/2022-05-09?base=USD&symbols=INR'"
      ]
     },
     "execution_count": 3,
     "metadata": {},
     "output_type": "execute_result"
    }
   ],
   "source": [
    "url = base_url + date + \"?base=\" + base + \"&symbols=\" + trgt\n",
    "url"
   ]
  },
  {
   "cell_type": "code",
   "execution_count": 4,
   "id": "ce6c1e78",
   "metadata": {},
   "outputs": [],
   "source": [
    "response = rq.get(url)"
   ]
  },
  {
   "cell_type": "code",
   "execution_count": 5,
   "id": "26cfc9aa",
   "metadata": {},
   "outputs": [
    {
     "name": "stdout",
     "output_type": "stream",
     "text": [
      "USD 10000.0 is equal to INR 773148.56 based upon rates on 2022-05-09\n"
     ]
    }
   ],
   "source": [
    "if response.ok is False:\n",
    "    print(\"\\nError {}: \".format(response.status_code))\n",
    "    print(response.json()['error'])\n",
    "else:\n",
    "    data = response.json()\n",
    "    rate = data['rates'][trgt]\n",
    "    result = qnty * rate\n",
    "    print(\"{} {} is equal to {} {} based upon rates on {}\".format(base, qnty, trgt, result, date))"
   ]
  }
 ],
 "metadata": {
  "kernelspec": {
   "display_name": "Python 3 (ipykernel)",
   "language": "python",
   "name": "python3"
  },
  "language_info": {
   "codemirror_mode": {
    "name": "ipython",
    "version": 3
   },
   "file_extension": ".py",
   "mimetype": "text/x-python",
   "name": "python",
   "nbconvert_exporter": "python",
   "pygments_lexer": "ipython3",
   "version": "3.9.12"
  }
 },
 "nbformat": 4,
 "nbformat_minor": 5
}
