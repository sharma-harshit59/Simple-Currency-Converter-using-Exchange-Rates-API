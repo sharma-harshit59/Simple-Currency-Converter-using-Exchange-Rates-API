{
 "cells": [
  {
   "cell_type": "code",
   "execution_count": 1,
   "id": "3a159aa2",
   "metadata": {},
   "outputs": [],
   "source": [
    "import requests as rq\n",
    "import json"
   ]
  },
  {
   "cell_type": "code",
   "execution_count": null,
   "id": "1dca49a9",
   "metadata": {},
   "outputs": [
    {
     "name": "stdout",
     "output_type": "stream",
     "text": [
      "Enter Date of Exchange (Format: 'YYYY-MM-DD' or 'latest'): 2022-05-09\n",
      "Base Currency (Currency from): USD\n"
     ]
    }
   ],
   "source": [
    "date = input(\"Enter Date of Exchange (Format: 'YYYY-MM-DD' or 'latest'): \")\n",
    "base = input(\"Base Currency (Currency from): \")\n",
    "trgt = input(\"Target Currency (Currency to): \")\n",
    "qnty = float(input(\"How much {} you want to convert?\".format(base)))\n",
    "base_url = \"https://api.exchangerate.host/\""
   ]
  },
  {
   "cell_type": "code",
   "execution_count": null,
   "id": "13f09a7e",
   "metadata": {},
   "outputs": [],
   "source": [
    "url = base_url + date + \"?base=\" + base + \"&symbols=\" + trgt\n",
    "url"
   ]
  },
  {
   "cell_type": "code",
   "execution_count": null,
   "id": "737a7ffd",
   "metadata": {},
   "outputs": [],
   "source": [
    "response = rq.get(url)"
   ]
  },
  {
   "cell_type": "code",
   "execution_count": null,
   "id": "26cfc9aa",
   "metadata": {},
   "outputs": [],
   "source": [
    "if response.ok is False:\n",
    "    print(\"\\nError {}: \".format(response.status_code))\n",
    "    print(response.json()['error'])\n",
    "else:\n",
    "    data = response.json()\n",
    "    rate = data['rates'][trgt]\n",
    "    result = qnty * rate\n",
    "    print(\"{} {} is equal to {} {} based upon rates on {}\".format(base, qnty, trgt, result, date))"
   ]
  }
 ],
 "metadata": {
  "kernelspec": {
   "display_name": "Python 3 (ipykernel)",
   "language": "python",
   "name": "python3"
  },
  "language_info": {
   "codemirror_mode": {
    "name": "ipython",
    "version": 3
   },
   "file_extension": ".py",
   "mimetype": "text/x-python",
   "name": "python",
   "nbconvert_exporter": "python",
   "pygments_lexer": "ipython3",
   "version": "3.9.12"
  }
 },
 "nbformat": 4,
 "nbformat_minor": 5
}
